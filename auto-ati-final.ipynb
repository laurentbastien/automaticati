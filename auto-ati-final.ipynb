{
 "cells": [
  {
   "cell_type": "code",
   "execution_count": 156,
   "metadata": {
    "collapsed": false
   },
   "outputs": [],
   "source": [
    "from selenium import webdriver\n",
    "import pandas as pd\n",
    "import requests\n",
    "import re\n",
    "from bs4 import BeautifulSoup\n",
    "from time import sleep\n",
    "import html2text\n",
    "import tweepy\n",
    "from datetime import datetime"
   ]
  },
  {
   "cell_type": "code",
   "execution_count": 80,
   "metadata": {
    "collapsed": true
   },
   "outputs": [],
   "source": [
    "consumer_key = \"gmH5LPB1I7lwonfJmIEwX34CU\"\n",
    "consumer_secret = \"EgLvpGQDzQ9SX31F1WLXRxGw84xVrb36vY7uhH9SuYq72rfm5T\" \n",
    "access_token = \"938845313674219520-2gdHg8TGpYmqUs2F7gN0npTSGhtbR5H\"\n",
    "access_token_secret = \"BfBwAPIbChI0h6FRRwohKxTW8hW2kZyqtEE3wWWUEisi5\""
   ]
  },
  {
   "cell_type": "code",
   "execution_count": 84,
   "metadata": {
    "collapsed": true
   },
   "outputs": [],
   "source": [
    "auth = tweepy.OAuthHandler(consumer_key, consumer_secret)\n",
    "auth.set_access_token(access_token, access_token_secret)\n",
    "api = tweepy.API(auth)\n"
   ]
  },
  {
   "cell_type": "code",
   "execution_count": 86,
   "metadata": {
    "collapsed": false
   },
   "outputs": [
    {
     "data": {
      "text/plain": [
       "Status(_api=<tweepy.api.API object at 0x11a0bbc18>, _json={'created_at': 'Thu Dec 07 19:10:40 +0000 2017', 'id': 938848250425233409, 'id_str': '938848250425233409', 'text': 'test hello', 'truncated': False, 'entities': {'hashtags': [], 'symbols': [], 'user_mentions': [], 'urls': []}, 'source': '<a href=\"http://www.laurentbastien.com\" rel=\"nofollow\">atibot</a>', 'in_reply_to_status_id': None, 'in_reply_to_status_id_str': None, 'in_reply_to_user_id': None, 'in_reply_to_user_id_str': None, 'in_reply_to_screen_name': None, 'user': {'id': 938845313674219520, 'id_str': '938845313674219520', 'name': 'ati bot', 'screen_name': 'ati_bot', 'location': '', 'description': '', 'url': None, 'entities': {'description': {'urls': []}}, 'protected': False, 'followers_count': 0, 'friends_count': 0, 'listed_count': 0, 'created_at': 'Thu Dec 07 18:59:00 +0000 2017', 'favourites_count': 0, 'utc_offset': None, 'time_zone': None, 'geo_enabled': False, 'verified': False, 'statuses_count': 1, 'lang': 'en', 'contributors_enabled': False, 'is_translator': False, 'is_translation_enabled': False, 'profile_background_color': 'F5F8FA', 'profile_background_image_url': None, 'profile_background_image_url_https': None, 'profile_background_tile': False, 'profile_image_url': 'http://abs.twimg.com/sticky/default_profile_images/default_profile_normal.png', 'profile_image_url_https': 'https://abs.twimg.com/sticky/default_profile_images/default_profile_normal.png', 'profile_link_color': '1DA1F2', 'profile_sidebar_border_color': 'C0DEED', 'profile_sidebar_fill_color': 'DDEEF6', 'profile_text_color': '333333', 'profile_use_background_image': True, 'has_extended_profile': False, 'default_profile': True, 'default_profile_image': True, 'following': False, 'follow_request_sent': False, 'notifications': False, 'translator_type': 'none'}, 'geo': None, 'coordinates': None, 'place': None, 'contributors': None, 'is_quote_status': False, 'retweet_count': 0, 'favorite_count': 0, 'favorited': False, 'retweeted': False, 'lang': 'en'}, created_at=datetime.datetime(2017, 12, 7, 19, 10, 40), id=938848250425233409, id_str='938848250425233409', text='test hello', truncated=False, entities={'hashtags': [], 'symbols': [], 'user_mentions': [], 'urls': []}, source='atibot', source_url='http://www.laurentbastien.com', in_reply_to_status_id=None, in_reply_to_status_id_str=None, in_reply_to_user_id=None, in_reply_to_user_id_str=None, in_reply_to_screen_name=None, author=User(_api=<tweepy.api.API object at 0x11a0bbc18>, _json={'id': 938845313674219520, 'id_str': '938845313674219520', 'name': 'ati bot', 'screen_name': 'ati_bot', 'location': '', 'description': '', 'url': None, 'entities': {'description': {'urls': []}}, 'protected': False, 'followers_count': 0, 'friends_count': 0, 'listed_count': 0, 'created_at': 'Thu Dec 07 18:59:00 +0000 2017', 'favourites_count': 0, 'utc_offset': None, 'time_zone': None, 'geo_enabled': False, 'verified': False, 'statuses_count': 1, 'lang': 'en', 'contributors_enabled': False, 'is_translator': False, 'is_translation_enabled': False, 'profile_background_color': 'F5F8FA', 'profile_background_image_url': None, 'profile_background_image_url_https': None, 'profile_background_tile': False, 'profile_image_url': 'http://abs.twimg.com/sticky/default_profile_images/default_profile_normal.png', 'profile_image_url_https': 'https://abs.twimg.com/sticky/default_profile_images/default_profile_normal.png', 'profile_link_color': '1DA1F2', 'profile_sidebar_border_color': 'C0DEED', 'profile_sidebar_fill_color': 'DDEEF6', 'profile_text_color': '333333', 'profile_use_background_image': True, 'has_extended_profile': False, 'default_profile': True, 'default_profile_image': True, 'following': False, 'follow_request_sent': False, 'notifications': False, 'translator_type': 'none'}, id=938845313674219520, id_str='938845313674219520', name='ati bot', screen_name='ati_bot', location='', description='', url=None, entities={'description': {'urls': []}}, protected=False, followers_count=0, friends_count=0, listed_count=0, created_at=datetime.datetime(2017, 12, 7, 18, 59), favourites_count=0, utc_offset=None, time_zone=None, geo_enabled=False, verified=False, statuses_count=1, lang='en', contributors_enabled=False, is_translator=False, is_translation_enabled=False, profile_background_color='F5F8FA', profile_background_image_url=None, profile_background_image_url_https=None, profile_background_tile=False, profile_image_url='http://abs.twimg.com/sticky/default_profile_images/default_profile_normal.png', profile_image_url_https='https://abs.twimg.com/sticky/default_profile_images/default_profile_normal.png', profile_link_color='1DA1F2', profile_sidebar_border_color='C0DEED', profile_sidebar_fill_color='DDEEF6', profile_text_color='333333', profile_use_background_image=True, has_extended_profile=False, default_profile=True, default_profile_image=True, following=False, follow_request_sent=False, notifications=False, translator_type='none'), user=User(_api=<tweepy.api.API object at 0x11a0bbc18>, _json={'id': 938845313674219520, 'id_str': '938845313674219520', 'name': 'ati bot', 'screen_name': 'ati_bot', 'location': '', 'description': '', 'url': None, 'entities': {'description': {'urls': []}}, 'protected': False, 'followers_count': 0, 'friends_count': 0, 'listed_count': 0, 'created_at': 'Thu Dec 07 18:59:00 +0000 2017', 'favourites_count': 0, 'utc_offset': None, 'time_zone': None, 'geo_enabled': False, 'verified': False, 'statuses_count': 1, 'lang': 'en', 'contributors_enabled': False, 'is_translator': False, 'is_translation_enabled': False, 'profile_background_color': 'F5F8FA', 'profile_background_image_url': None, 'profile_background_image_url_https': None, 'profile_background_tile': False, 'profile_image_url': 'http://abs.twimg.com/sticky/default_profile_images/default_profile_normal.png', 'profile_image_url_https': 'https://abs.twimg.com/sticky/default_profile_images/default_profile_normal.png', 'profile_link_color': '1DA1F2', 'profile_sidebar_border_color': 'C0DEED', 'profile_sidebar_fill_color': 'DDEEF6', 'profile_text_color': '333333', 'profile_use_background_image': True, 'has_extended_profile': False, 'default_profile': True, 'default_profile_image': True, 'following': False, 'follow_request_sent': False, 'notifications': False, 'translator_type': 'none'}, id=938845313674219520, id_str='938845313674219520', name='ati bot', screen_name='ati_bot', location='', description='', url=None, entities={'description': {'urls': []}}, protected=False, followers_count=0, friends_count=0, listed_count=0, created_at=datetime.datetime(2017, 12, 7, 18, 59), favourites_count=0, utc_offset=None, time_zone=None, geo_enabled=False, verified=False, statuses_count=1, lang='en', contributors_enabled=False, is_translator=False, is_translation_enabled=False, profile_background_color='F5F8FA', profile_background_image_url=None, profile_background_image_url_https=None, profile_background_tile=False, profile_image_url='http://abs.twimg.com/sticky/default_profile_images/default_profile_normal.png', profile_image_url_https='https://abs.twimg.com/sticky/default_profile_images/default_profile_normal.png', profile_link_color='1DA1F2', profile_sidebar_border_color='C0DEED', profile_sidebar_fill_color='DDEEF6', profile_text_color='333333', profile_use_background_image=True, has_extended_profile=False, default_profile=True, default_profile_image=True, following=False, follow_request_sent=False, notifications=False, translator_type='none'), geo=None, coordinates=None, place=None, contributors=None, is_quote_status=False, retweet_count=0, favorite_count=0, favorited=False, retweeted=False, lang='en')"
      ]
     },
     "execution_count": 86,
     "metadata": {},
     "output_type": "execute_result"
    }
   ],
   "source": [
    "api.update_status(\"test hello\")"
   ]
  },
  {
   "cell_type": "code",
   "execution_count": 114,
   "metadata": {
    "collapsed": false
   },
   "outputs": [],
   "source": [
    "username = []\n",
    "tweets = []\n",
    "time = []\n",
    "mymentions= tweepy.Cursor(api.mentions_timeline).items()\n",
    "for tweet in mymentions:\n",
    "    username.append(tweet.user.screen_name)\n",
    "    tweets.append(tweet.created_at)\n",
    "    time.append(tweet.text)"
   ]
  },
  {
   "cell_type": "code",
   "execution_count": 145,
   "metadata": {
    "collapsed": false
   },
   "outputs": [],
   "source": [
    "mytweets = pd.DataFrame(username)\n",
    "mytweets[\"tweets\"] = pd.DataFrame(tweets)\n",
    "mytweets[\"time\"] = pd.DataFrame(time)"
   ]
  },
  {
   "cell_type": "code",
   "execution_count": 146,
   "metadata": {
    "collapsed": false
   },
   "outputs": [
    {
     "data": {
      "text/html": [
       "<div>\n",
       "<table border=\"1\" class=\"dataframe\">\n",
       "  <thead>\n",
       "    <tr style=\"text-align: right;\">\n",
       "      <th></th>\n",
       "      <th>0</th>\n",
       "      <th>tweets</th>\n",
       "      <th>time</th>\n",
       "    </tr>\n",
       "  </thead>\n",
       "  <tbody>\n",
       "    <tr>\n",
       "      <th>0</th>\n",
       "      <td>BastienLaurent</td>\n",
       "      <td>2017-12-08 00:33:21</td>\n",
       "      <td>@ati_bot Canadian Heritage</td>\n",
       "    </tr>\n",
       "    <tr>\n",
       "      <th>1</th>\n",
       "      <td>BastienLaurent</td>\n",
       "      <td>2017-12-07 23:59:32</td>\n",
       "      <td>@ati_bot test2</td>\n",
       "    </tr>\n",
       "    <tr>\n",
       "      <th>2</th>\n",
       "      <td>BastienLaurent</td>\n",
       "      <td>2017-12-07 23:50:17</td>\n",
       "      <td>@ati_bot test</td>\n",
       "    </tr>\n",
       "  </tbody>\n",
       "</table>\n",
       "</div>"
      ],
      "text/plain": [
       "                0              tweets                        time\n",
       "0  BastienLaurent 2017-12-08 00:33:21  @ati_bot Canadian Heritage\n",
       "1  BastienLaurent 2017-12-07 23:59:32              @ati_bot test2\n",
       "2  BastienLaurent 2017-12-07 23:50:17               @ati_bot test"
      ]
     },
     "execution_count": 146,
     "metadata": {},
     "output_type": "execute_result"
    }
   ],
   "source": [
    "mytweets[mytweets[\"time\"].str.contains(\"ati\")]"
   ]
  },
  {
   "cell_type": "code",
   "execution_count": 165,
   "metadata": {
    "collapsed": false
   },
   "outputs": [
    {
     "name": "stdout",
     "output_type": "stream",
     "text": [
      "2017-12-07 22:10:27\n"
     ]
    }
   ],
   "source": [
    "str(datetime.now())\n",
    "from pytz import timezone\n",
    "fmt = \"%Y-%m-%d %H:%M:%S\"\n",
    "now_time = datetime.now(timezone('US/Eastern'))\n",
    "print(now_time.strftime(fmt))"
   ]
  },
  {
   "cell_type": "code",
   "execution_count": 154,
   "metadata": {
    "collapsed": false
   },
   "outputs": [
    {
     "name": "stdout",
     "output_type": "stream",
     "text": [
      " Canadian Heritage\n",
      " test2\n",
      " test\n"
     ]
    }
   ],
   "source": [
    "for index, row in mytweets.iterrows():\n",
    "    if print(row[\"time\"].replace(\"@ati_bot\", \"\"))"
   ]
  },
  {
   "cell_type": "code",
   "execution_count": null,
   "metadata": {
    "collapsed": true
   },
   "outputs": [],
   "source": [
    "//*[@id=\"block-system-main\"]/div/div/div/div[2]/div/div[9]/div/div/div/div/div/div/div[3]/div/ul/li[2]/a\n",
    "//*[@id=\"block-system-main\"]/div/div/div/div[2]/div/div[9]/div/div/div/div/div/div/div[3]/div/ul/li[3]/a"
   ]
  },
  {
   "cell_type": "code",
   "execution_count": 4,
   "metadata": {
    "collapsed": false
   },
   "outputs": [],
   "source": [
    "path_to_chromedriver = '/Users/laurentbastien/Desktop/home/practice/chromedriver' # change path as needed\n",
    "browser = webdriver.Chrome(executable_path = path_to_chromedriver)\n",
    "url = 'http://open.canada.ca/en/search/ati'\n",
    "browser.get(url)\n",
    "html = requests.get(url)\n",
    "page = html.text\n",
    "soup = BeautifulSoup(page, 'html.parser')\n",
    "myurl = browser.current_url"
   ]
  },
  {
   "cell_type": "code",
   "execution_count": 38,
   "metadata": {
    "collapsed": false
   },
   "outputs": [],
   "source": [
    "a = len(soup.findAll(\"\",attrs = { \"class\" : \"panel-body\" }))\n",
    "a = a "
   ]
  },
  {
   "cell_type": "code",
   "execution_count": 77,
   "metadata": {
    "collapsed": false
   },
   "outputs": [],
   "source": [
    "myurls = []\n",
    "for numbers in range(3,a):\n",
    "    for entry in soup.findAll(\"\",attrs = { \"class\" : \"panel-body\" })[numbers]:\n",
    "        if \"Canada\" in str(entry):\n",
    "            match = re.findall(\"(?<=href=).*$\", str(entry))\n",
    "            match = str(match).replace('title=\"Contact this organization about this ATI Request', \" \")\n",
    "            match = match.split(\"  \")\n",
    "            match = match[0]\n",
    "            match = match.replace('[\\'\"/', \"\")\n",
    "            match = match.replace(\"'\", \" \")\n",
    "            match = match.replace('\"', \"\")\n",
    "            match\n",
    "            url = \"http://open.canada.ca/\"\n",
    "            finalurl = url+match\n",
    "            myurls.append(finalurl)"
   ]
  },
  {
   "cell_type": "code",
   "execution_count": 40,
   "metadata": {
    "collapsed": false
   },
   "outputs": [
    {
     "data": {
      "text/plain": [
       "'  Organization:  Office of the Commissioner of Official Languages   Disposition:  partiel disclosure/divulgation partielle   Year:  2017   Month:  November   Number of Pages:  12   Request Summary:  Contract was between the Policy and Communications Branch and Robert Talbot, an independent historical consultant. The contract took place in 2015.\\n\\nMake an informal request for: A-2017-027 (OCOL)  '"
      ]
     },
     "execution_count": 40,
     "metadata": {},
     "output_type": "execute_result"
    }
   ],
   "source": [
    "myhtml = soup.findAll(\"\",attrs = { \"class\" : \"panel-body\" })[12]\n",
    "myhtml.text"
   ]
  },
  {
   "cell_type": "code",
   "execution_count": 78,
   "metadata": {
    "collapsed": false
   },
   "outputs": [
    {
     "data": {
      "text/plain": [
       "['http://open.canada.ca/forms/contact-ati-org?org=Canadian Heritage&amp;req_num=A-2017-00104&amp;disp=Disclosed in part&amp;year=2017&amp;month=December&amp;pages=180&amp;req_sum=List%20of%20all%20proposals%20received%20by%20Canadian%20Heritage%20for%20Canada%20150%20funding%2C%20including%20the%20proposals%20that%20were%20either%20accepted%20or%20declined%20and%20how%20much%20funding%20was%20awarded.&amp;req_pages=180&amp;email=aiprp.atip@pch.gc.ca',\n",
       " 'http://open.canada.ca/forms/contact-ati-org?org=Windsor-Detroit Bridge Authority&amp;req_num=2016-05&amp;disp=Disclosed in part&amp;year=2017&amp;month=November&amp;pages=349&amp;req_sum=All%20correspondence%2C%20including%20but%20not%20limited%20to%20letters%2C%20emails%2C%20briefing%20notes%2C%20reports%2C%20texts%2C%20between%20Dwight%20Duncan%20and%20Infrastructure%20Canada%2C%20Transport%20Canada%2C%20Treasury%20Board%2C%20Treasury%20Board%20Secretariat%2C%20Privy%20Council%20Office%2C%20Office%20of%20the%20Prime%20Minister%2C%20Manuel%20Moroun%2C%20Matthew%20Moroun%2C%20Detroit%20International%20Bridge%20Company%20and%20any%20other%20person/entity%20connected%20to%20the%20Ambassador%20Bridge%20regarding%20the%20Gordie%20Howe%20International%20bridge%20and/or%20Ambassador%20Bridge.%20&amp;req_pages=349&amp;email=Heather.Grondin@wdbridge.com',\n",
       " 'http://open.canada.ca/[]',\n",
       " 'http://open.canada.ca/[]',\n",
       " 'http://open.canada.ca/[]',\n",
       " 'http://open.canada.ca/forms/contact-ati-org?org=Parole Board of Canada&amp;req_num=A-2017-00020&amp;disp=All disclosed/Communication totale&amp;year=2017&amp;month=November&amp;pages=1&amp;req_sum=An%20updated%20table%20of%20the%20number%20of%20offenders%20who%20have%20been%20granted%20a%20day%20parole%20or%20a%20full%20parole%2C%20from%202008%20to%20this%20day&amp;req_pages=1&amp;email=marie.cocking@pbc-clcc.gc.ca']"
      ]
     },
     "execution_count": 78,
     "metadata": {},
     "output_type": "execute_result"
    }
   ],
   "source": [
    "myurls"
   ]
  },
  {
   "cell_type": "code",
   "execution_count": 70,
   "metadata": {
    "collapsed": false
   },
   "outputs": [
    {
     "data": {
      "text/plain": [
       "'   <p> <strong>Organization: </strong> <span>Pierre Elliott Trudeau Foundation</span> </p> <p> <strong>Disposition: </strong> <span>Record does not exist</span> </p> <p> <strong>Year: </strong> <span>2017</span> </p> <p> <strong>Month: </strong> <span>December</span> </p> <p> <strong>Number of Pages: </strong> <span>0</span> </p> <p> <strong>Request Summary: </strong> <span>List of amounts received from union or labour groups for each year since 2015\\n\\n<p><strong><a href=\"/forms/contact-ati-org?org=Pierre Elliott Trudeau Foundation&amp;req_num=A-2017-015&amp;disp=Record does not exist&amp;year=2017&amp;month=December&amp;pages=0&amp;req_sum=List%20of%20amounts%20received%20from%20union%20or%20labour%20groups%20for%20each%20year%20since%202015&amp;req_pages=0&amp;email=ATIP@trudeaufoundation.ca\" title=\"Contact this organization about this ATI Request.\">Make an informal request for: A-2017-015 (PETF)</a></strong></p></span> </p>  <p> <strong>Organization: </strong> <span>Canadian Heritage</span> </p> <p> <strong>Disposition: </strong> <span>Disclosed in part</span> </p> <p> <strong>Year: </strong> <span>2017</span> </p> <p> <strong>Month: </strong> <span>December</span> </p> <p> <strong>Number of Pages: </strong> <span>180</span> </p> <p> <strong>Request Summary: </strong> <span>List of all proposals received by Canadian Heritage for Canada 150 funding, including the proposals that were either accepted or declined and how much funding was awarded.\\n\\n<p><strong><a href=\"/forms/contact-ati-org?org=Canadian Heritage&amp;req_num=A-2017-00104&amp;disp=Disclosed in part&amp;year=2017&amp;month=December&amp;pages=180&amp;req_sum=List%20of%20all%20proposals%20received%20by%20Canadian%20Heritage%20for%20Canada%20150%20funding%2C%20including%20the%20proposals%20that%20were%20either%20accepted%20or%20declined%20and%20how%20much%20funding%20was%20awarded.&amp;req_pages=180&amp;email=aiprp.atip@pch.gc.ca\" title=\"Contact this organization about this ATI Request.\">Make an informal request for: A-2017-00104 (PCH)</a></strong></p></span> </p>  <p> <strong>Organization: </strong> <span>Windsor-Detroit Bridge Authority</span> </p> <p> <strong>Disposition: </strong> <span>Disclosed in part</span> </p> <p> <strong>Year: </strong> <span>2017</span> </p> <p> <strong>Month: </strong> <span>November</span> </p> <p> <strong>Number of Pages: </strong> <span>349</span> </p> <p> <strong>Request Summary: </strong> <span>All correspondence, including but not limited to letters, emails, briefing notes, reports, texts, between Dwight Duncan and Infrastructure Canada, Transport Canada, Treasury Board, Treasury Board Secretariat, Privy Council Office, Office of the Prime Minister, Manuel Moroun, Matthew Moroun, Detroit International Bridge Company and any other person/entity connected to the Ambassador Bridge regarding the Gordie Howe International bridge and/or Ambassador Bridge. \\n\\n<p><strong><a href=\"/forms/contact-ati-org?org=Windsor-Detroit Bridge Authority&amp;req_num=2016-05&amp;disp=Disclosed in part&amp;year=2017&amp;month=November&amp;pages=349&amp;req_sum=All%20correspondence%2C%20including%20but%20not%20limited%20to%20letters%2C%20emails%2C%20briefing%20notes%2C%20reports%2C%20texts%2C%20between%20Dwight%20Duncan%20and%20Infrastructure%20Canada%2C%20Transport%20Canada%2C%20Treasury%20Board%2C%20Treasury%20Board%20Secretariat%2C%20Privy%20Council%20Office%2C%20Office%20of%20the%20Prime%20Minister%2C%20Manuel%20Moroun%2C%20Matthew%20Moroun%2C%20Detroit%20International%20Bridge%20Company%20and%20any%20other%20person/entity%20connected%20to%20the%20Ambassador%20Bridge%20regarding%20the%20Gordie%20Howe%20International%20bridge%20and/or%20Ambassador%20Bridge.%20&amp;req_pages=349&amp;email=Heather.Grondin@wdbridge.com\" title=\"Contact this organization about this ATI Request.\">Make an informal request for: 2016-05 (WDBA)</a></strong></p></span> </p>  <p> <strong>Organization: </strong> <span>Windsor-Detroit Bridge Authority</span> </p> <p> <strong>Disposition: </strong> <span>Disclosed in part</span> </p> <p> <strong>Year: </strong> <span>2017</span> </p> <p> <strong>Month: </strong> <span>November</span> </p> <p> <strong>Number of Pages: </strong> <span>306</span> </p> <p> <strong>Request Summary: </strong> <span>Any and all documents including drafts and emails between June 30, 2014 and November 1, 2016 that substantively reference Mike Duggan beyond simply referencing his elected position as Mayor of Detroit. Excluding emails which refer to Mike Duggan only in their signature block unless sent by Mike Duggan.\\n\\n<p><strong><a href=\"/forms/contact-ati-org?org=Windsor-Detroit Bridge Authority&amp;req_num=2016-13&amp;disp=Disclosed in part&amp;year=2017&amp;month=November&amp;pages=306&amp;req_sum=Any%20and%20all%20documents%20including%20drafts%20and%20emails%20between%20June%2030%2C%202014%20and%20November%201%2C%202016%20that%20substantively%20reference%20Mike%20Duggan%20beyond%20simply%20referencing%20his%20elected%20position%20as%20Mayor%20of%20Detroit.%20Excluding%20emails%20which%20refer%20to%20Mike%20Duggan%20only%20in%20their%20signature%20block%20unless%20sent%20by%20Mike%20Duggan.&amp;req_pages=306&amp;email=Heather.Grondin@wdbridge.com\" title=\"Contact this organization about this ATI Request.\">Make an informal request for: 2016-13 (WDBA)</a></strong></p></span> </p>  <p> <strong>Organization: </strong> <span>The Correctional Investigator Canada</span> </p> <p> <strong>Year: </strong> <span>2017</span> </p> <p> <strong>Month: </strong> <span>November</span> </p> <strong class=\"views-field views-field-ss-ati-nothing-to-report-en\"> <span class=\"field-content\">Nothing to report this month</span> </strong>  <p> <strong>Organization: </strong> <span>Social Sciences and Humanities Research Council of Canada</span> </p> <p> <strong>Year: </strong> <span>2017</span> </p> <p> <strong>Month: </strong> <span>November</span> </p> <strong class=\"views-field views-field-ss-ati-nothing-to-report-en\"> <span class=\"field-content\">Nothing to report this month</span> </strong>  <p> <strong>Organization: </strong> <span>Public Service Health Care Plan</span> </p> <p> <strong>Year: </strong> <span>2017</span> </p> <p> <strong>Month: </strong> <span>November</span> </p> <strong class=\"views-field views-field-ss-ati-nothing-to-report-en\"> <span class=\"field-content\">Nothing to report this month</span> </strong>  <p> <strong>Organization: </strong> <span>Prince Rupert Port Authority</span> </p> <p> <strong>Year: </strong> <span>2017</span> </p> <p> <strong>Month: </strong> <span>November</span> </p> <strong class=\"views-field views-field-ss-ati-nothing-to-report-en\"> <span class=\"field-content\">Nothing to report this month</span> </strong>  <p> <strong>Organization: </strong> <span>Parole Board of Canada</span> </p> <p> <strong>Disposition: </strong> <span>All disclosed/Communication totale</span> </p> <p> <strong>Year: </strong> <span>2017</span> </p> <p> <strong>Month: </strong> <span>November</span> </p> <p> <strong>Number of Pages: </strong> <span>1</span> </p> <p> <strong>Request Summary: </strong> <span>An updated table of the number of offenders who have been granted a day parole or a full parole, from 2008 to this day\\n\\n<p><strong><a href=\"/forms/contact-ati-org?org=Parole Board of Canada&amp;req_num=A-2017-00020&amp;disp=All disclosed/Communication totale&amp;year=2017&amp;month=November&amp;pages=1&amp;req_sum=An%20updated%20table%20of%20the%20number%20of%20offenders%20who%20have%20been%20granted%20a%20day%20parole%20or%20a%20full%20parole%2C%20from%202008%20to%20this%20day&amp;req_pages=1&amp;email=marie.cocking@pbc-clcc.gc.ca\" title=\"Contact this organization about this ATI Request.\">Make an informal request for: A-2017-00020 (PBC)</a></strong></p></span> </p> '"
      ]
     },
     "execution_count": 70,
     "metadata": {},
     "output_type": "execute_result"
    }
   ],
   "source": [
    "b"
   ]
  },
  {
   "cell_type": "code",
   "execution_count": null,
   "metadata": {
    "collapsed": true
   },
   "outputs": [],
   "source": []
  }
 ],
 "metadata": {
  "kernelspec": {
   "display_name": "Python 3",
   "language": "python",
   "name": "python3"
  },
  "language_info": {
   "codemirror_mode": {
    "name": "ipython",
    "version": 3
   },
   "file_extension": ".py",
   "mimetype": "text/x-python",
   "name": "python",
   "nbconvert_exporter": "python",
   "pygments_lexer": "ipython3",
   "version": "3.6.0"
  }
 },
 "nbformat": 4,
 "nbformat_minor": 2
}
